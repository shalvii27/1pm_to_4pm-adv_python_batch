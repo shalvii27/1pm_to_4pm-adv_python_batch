{
 "cells": [
  {
   "cell_type": "markdown",
   "id": "3b4c5dcd",
   "metadata": {},
   "source": [
    "# *Args, **kwargs"
   ]
  },
  {
   "cell_type": "code",
   "execution_count": 1,
   "id": "8daf56b3",
   "metadata": {},
   "outputs": [],
   "source": [
    "# calculation area of rectangle"
   ]
  },
  {
   "cell_type": "code",
   "execution_count": 2,
   "id": "4f65ef4c",
   "metadata": {},
   "outputs": [],
   "source": [
    "def area_of_rect(l,b):\n",
    "    aor=l*b\n",
    "    print(\"area of rectangle=\",aor)"
   ]
  },
  {
   "cell_type": "code",
   "execution_count": 3,
   "id": "a2c4a9e0",
   "metadata": {},
   "outputs": [
    {
     "name": "stdout",
     "output_type": "stream",
     "text": [
      "area of rectangle= 36\n"
     ]
    }
   ],
   "source": [
    "area_of_rect(4,9)"
   ]
  },
  {
   "cell_type": "code",
   "execution_count": 4,
   "id": "915f7f41",
   "metadata": {},
   "outputs": [],
   "source": [
    "# *args"
   ]
  },
  {
   "cell_type": "code",
   "execution_count": 5,
   "id": "07e6f092",
   "metadata": {},
   "outputs": [],
   "source": [
    "# sum of all values present in a parameter"
   ]
  },
  {
   "cell_type": "code",
   "execution_count": 6,
   "id": "60b51f51",
   "metadata": {},
   "outputs": [],
   "source": [
    "def cal_sum(*args):\n",
    "    sum=0\n",
    "    for i in args:\n",
    "        sum=sum+i\n",
    "    return f\"sum of all values={sum}\""
   ]
  },
  {
   "cell_type": "code",
   "execution_count": 7,
   "id": "005ed8fc",
   "metadata": {},
   "outputs": [
    {
     "data": {
      "text/plain": [
       "'sum of all values=9'"
      ]
     },
     "execution_count": 7,
     "metadata": {},
     "output_type": "execute_result"
    }
   ],
   "source": [
    "cal_sum(2,3,4)"
   ]
  },
  {
   "cell_type": "code",
   "execution_count": 8,
   "id": "40bc7282",
   "metadata": {},
   "outputs": [
    {
     "data": {
      "text/plain": [
       "'sum of all values=24'"
      ]
     },
     "execution_count": 8,
     "metadata": {},
     "output_type": "execute_result"
    }
   ],
   "source": [
    "cal_sum(2,4,5,6,7)"
   ]
  },
  {
   "cell_type": "code",
   "execution_count": 9,
   "id": "8ea037d7",
   "metadata": {},
   "outputs": [],
   "source": [
    "lst=[2,3,4,5,676,43,45,23,49,42]"
   ]
  },
  {
   "cell_type": "code",
   "execution_count": 10,
   "id": "f312426b",
   "metadata": {},
   "outputs": [
    {
     "data": {
      "text/plain": [
       "'sum of all values=892'"
      ]
     },
     "execution_count": 10,
     "metadata": {},
     "output_type": "execute_result"
    }
   ],
   "source": [
    "# list unpacking\n",
    "cal_sum(*lst)"
   ]
  },
  {
   "cell_type": "code",
   "execution_count": 11,
   "id": "6b18471c",
   "metadata": {},
   "outputs": [],
   "source": [
    "# **kwargs"
   ]
  },
  {
   "cell_type": "code",
   "execution_count": 12,
   "id": "0885bfcb",
   "metadata": {},
   "outputs": [],
   "source": [
    "def display_data(**kwargs):\n",
    "    print(f\"values:{kwargs}\")"
   ]
  },
  {
   "cell_type": "code",
   "execution_count": 13,
   "id": "ba382dc1",
   "metadata": {},
   "outputs": [
    {
     "name": "stdout",
     "output_type": "stream",
     "text": [
      "values:{'name': 'shalvi', 'age': 22, 'salary': 25000}\n"
     ]
    }
   ],
   "source": [
    "display_data(name=\"shalvi\",age=22,salary=25000)"
   ]
  },
  {
   "cell_type": "code",
   "execution_count": 14,
   "id": "961568c5",
   "metadata": {},
   "outputs": [],
   "source": [
    "menu={\n",
    "    \"pizza\":250,\n",
    "    \"maggie\":50,\n",
    "    \"noddles\":199,\n",
    "    \"burger\":70\n",
    "}\n",
    "    "
   ]
  },
  {
   "cell_type": "code",
   "execution_count": 15,
   "id": "c91d1095",
   "metadata": {},
   "outputs": [],
   "source": [
    "def print_info(**kwargs):\n",
    "    total_price=0\n",
    "    for name,price in kwargs.items():\n",
    "        print(f\"name:{name},price:{price}\")\n",
    "        print(f\"-------------------------------\")\n",
    "        total_price=total_price+price    \n",
    "    return f\"total_price={total_price}\"\n",
    "\n",
    "\n"
   ]
  },
  {
   "cell_type": "code",
   "execution_count": 16,
   "id": "fdabb543",
   "metadata": {},
   "outputs": [
    {
     "name": "stdout",
     "output_type": "stream",
     "text": [
      "name:pizza,price:250\n",
      "-------------------------------\n",
      "name:maggie,price:50\n",
      "-------------------------------\n",
      "name:noddles,price:199\n",
      "-------------------------------\n",
      "name:burger,price:70\n",
      "-------------------------------\n"
     ]
    },
    {
     "data": {
      "text/plain": [
       "'total_price=569'"
      ]
     },
     "execution_count": 16,
     "metadata": {},
     "output_type": "execute_result"
    }
   ],
   "source": [
    "print_info(**menu)"
   ]
  },
  {
   "cell_type": "code",
   "execution_count": 17,
   "id": "82a12911",
   "metadata": {},
   "outputs": [],
   "source": [
    "def print_info(**kwargs):\n",
    "    bill=0\n",
    "    for food,qty in kwargs.items():\n",
    "        amt=menu.get(food)*qty\n",
    "        bill=bill+amt\n",
    "        print(f\"food:{food},amount:{amt},quantity:{qty}\")\n",
    "    return f\"total_bill={bill}\""
   ]
  },
  {
   "cell_type": "code",
   "execution_count": 18,
   "id": "8ab9c328",
   "metadata": {},
   "outputs": [
    {
     "name": "stdout",
     "output_type": "stream",
     "text": [
      "food:burger,amount:210,quantity:3\n",
      "food:pizza,amount:500,quantity:2\n"
     ]
    },
    {
     "data": {
      "text/plain": [
       "'total_bill=710'"
      ]
     },
     "execution_count": 18,
     "metadata": {},
     "output_type": "execute_result"
    }
   ],
   "source": [
    "print_info(burger=3,pizza=2)"
   ]
  },
  {
   "cell_type": "markdown",
   "id": "5bbf49c1",
   "metadata": {},
   "source": [
    "# generator a function"
   ]
  },
  {
   "cell_type": "code",
   "execution_count": 19,
   "id": "504f0fbf",
   "metadata": {},
   "outputs": [],
   "source": [
    "# 0,1,1,2,3,5,8,13,21"
   ]
  },
  {
   "cell_type": "code",
   "execution_count": 20,
   "id": "8c552d5d",
   "metadata": {},
   "outputs": [],
   "source": [
    "# while\n",
    "# 1) initialization\n",
    "# 2) condition check\n",
    "# 3) incre/decre"
   ]
  },
  {
   "cell_type": "code",
   "execution_count": 21,
   "id": "8eb537c5",
   "metadata": {},
   "outputs": [
    {
     "name": "stdout",
     "output_type": "stream",
     "text": [
      "1\n",
      "2\n",
      "3\n",
      "4\n",
      "5\n",
      "6\n",
      "7\n",
      "8\n",
      "9\n",
      "10\n"
     ]
    }
   ],
   "source": [
    "i=1\n",
    "while i<=10:\n",
    "    print(i)\n",
    "    i=i+1"
   ]
  },
  {
   "cell_type": "code",
   "execution_count": 22,
   "id": "1d21e41d",
   "metadata": {},
   "outputs": [
    {
     "name": "stdout",
     "output_type": "stream",
     "text": [
      "4\n",
      "8\n",
      "12\n",
      "16\n",
      "20\n",
      "24\n",
      "28\n",
      "32\n",
      "36\n",
      "40\n"
     ]
    }
   ],
   "source": [
    "i=1\n",
    "n=int(input('enter a number'))\n",
    "while i<=10:\n",
    "    print(n*i)\n",
    "    i=i+1"
   ]
  },
  {
   "cell_type": "code",
   "execution_count": 23,
   "id": "40fe0bac",
   "metadata": {},
   "outputs": [],
   "source": [
    "#  0,1,1,2,3,5,8,13,21 fabnacii series"
   ]
  },
  {
   "cell_type": "code",
   "execution_count": 24,
   "id": "c4d81338",
   "metadata": {},
   "outputs": [
    {
     "name": "stdout",
     "output_type": "stream",
     "text": [
      "0\n",
      "1\n",
      "1\n",
      "2\n",
      "3\n",
      "5\n",
      "8\n",
      "13\n"
     ]
    }
   ],
   "source": [
    "i=1\n",
    "a=0\n",
    "b=1\n",
    "c=0\n",
    "while i<=8:\n",
    "    print(c)\n",
    "    a=b\n",
    "    b=c\n",
    "    c=a+b\n",
    "    i=i+1"
   ]
  },
  {
   "cell_type": "code",
   "execution_count": null,
   "id": "af910eff",
   "metadata": {},
   "outputs": [],
   "source": [
    "def fabo_number():\n",
    "    a=0\n",
    "    b=1\n",
    "    "
   ]
  }
 ],
 "metadata": {
  "kernelspec": {
   "display_name": "base",
   "language": "python",
   "name": "python3"
  },
  "language_info": {
   "codemirror_mode": {
    "name": "ipython",
    "version": 3
   },
   "file_extension": ".py",
   "mimetype": "text/x-python",
   "name": "python",
   "nbconvert_exporter": "python",
   "pygments_lexer": "ipython3",
   "version": "3.13.5"
  }
 },
 "nbformat": 4,
 "nbformat_minor": 5
}

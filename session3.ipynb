{
 "cells": [
  {
   "cell_type": "markdown",
   "id": "ed68f590",
   "metadata": {},
   "source": [
    "# session 3"
   ]
  },
  {
   "cell_type": "markdown",
   "id": "9bae7390",
   "metadata": {},
   "source": []
  },
  {
   "cell_type": "code",
   "execution_count": 2,
   "id": "fc6efa32",
   "metadata": {},
   "outputs": [],
   "source": [
    "s1={1,22,22,22,3,4,5,6,6,6,6,}"
   ]
  },
  {
   "cell_type": "code",
   "execution_count": 3,
   "id": "9c2bd24e",
   "metadata": {},
   "outputs": [
    {
     "data": {
      "text/plain": [
       "{1, 3, 4, 5, 6, 22}"
      ]
     },
     "execution_count": 3,
     "metadata": {},
     "output_type": "execute_result"
    }
   ],
   "source": [
    "s1"
   ]
  },
  {
   "cell_type": "code",
   "execution_count": null,
   "id": "325b8a1e",
   "metadata": {},
   "outputs": [],
   "source": []
  }
 ],
 "metadata": {
  "kernelspec": {
   "display_name": "base",
   "language": "python",
   "name": "python3"
  },
  "language_info": {
   "codemirror_mode": {
    "name": "ipython",
    "version": 3
   },
   "file_extension": ".py",
   "mimetype": "text/x-python",
   "name": "python",
   "nbconvert_exporter": "python",
   "pygments_lexer": "ipython3",
   "version": "3.13.5"
  }
 },
 "nbformat": 4,
 "nbformat_minor": 5
}

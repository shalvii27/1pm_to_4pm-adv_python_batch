{
 "cells": [
  {
   "cell_type": "markdown",
   "id": "2519919b",
   "metadata": {},
   "source": [
    "# session2"
   ]
  },
  {
   "cell_type": "code",
   "execution_count": 1,
   "id": "d08e7a77",
   "metadata": {},
   "outputs": [
    {
     "name": "stdout",
     "output_type": "stream",
     "text": [
      "we are going to learn about function\n"
     ]
    }
   ],
   "source": [
    "print(\"we are going to learn about function\")"
   ]
  },
  {
   "cell_type": "code",
   "execution_count": 2,
   "id": "c54c5bd7",
   "metadata": {},
   "outputs": [],
   "source": [
    "dict={\n",
    "    \"name\":\"shalvi\",\n",
    "    \"age\":21,\n",
    "    \"salary\":30000\n",
    "}"
   ]
  },
  {
   "cell_type": "code",
   "execution_count": 3,
   "id": "6b2d4cf9",
   "metadata": {},
   "outputs": [
    {
     "data": {
      "text/plain": [
       "{'name': 'shalvi', 'age': 21, 'salary': 30000}"
      ]
     },
     "execution_count": 3,
     "metadata": {},
     "output_type": "execute_result"
    }
   ],
   "source": [
    "dict"
   ]
  },
  {
   "cell_type": "code",
   "execution_count": null,
   "id": "694b55d9",
   "metadata": {},
   "outputs": [],
   "source": []
  }
 ],
 "metadata": {
  "kernelspec": {
   "display_name": "base",
   "language": "python",
   "name": "python3"
  },
  "language_info": {
   "codemirror_mode": {
    "name": "ipython",
    "version": 3
   },
   "file_extension": ".py",
   "mimetype": "text/x-python",
   "name": "python",
   "nbconvert_exporter": "python",
   "pygments_lexer": "ipython3",
   "version": "3.13.5"
  }
 },
 "nbformat": 4,
 "nbformat_minor": 5
}

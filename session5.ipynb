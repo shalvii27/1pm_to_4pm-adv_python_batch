{
 "cells": [
  {
   "cell_type": "markdown",
   "id": "d76b4e6a",
   "metadata": {},
   "source": [
    "# cal interest\n",
    "# interest=(p*r*t)/100"
   ]
  },
  {
   "cell_type": "code",
   "execution_count": 1,
   "id": "2c959513",
   "metadata": {},
   "outputs": [],
   "source": [
    "def cal_interest(p,r,t):\n",
    "    interest=(p*r*t)/100\n",
    "    print(\"Interest=\",interest)"
   ]
  },
  {
   "cell_type": "code",
   "execution_count": 2,
   "id": "a162c1d1",
   "metadata": {},
   "outputs": [
    {
     "name": "stdout",
     "output_type": "stream",
     "text": [
      "Interest= 250000.0\n"
     ]
    }
   ],
   "source": [
    "cal_interest(1000000,5,5)"
   ]
  },
  {
   "cell_type": "code",
   "execution_count": 3,
   "id": "56e23a10",
   "metadata": {},
   "outputs": [
    {
     "name": "stdout",
     "output_type": "stream",
     "text": [
      "Interest= 1000.0\n"
     ]
    }
   ],
   "source": [
    "cal_interest(50000,2,1)\n"
   ]
  },
  {
   "cell_type": "code",
   "execution_count": 4,
   "id": "03b7bf3a",
   "metadata": {},
   "outputs": [],
   "source": [
    "def print_table(n):\n",
    "    for i in range(1,11):\n",
    "         print(n*i)"
   ]
  },
  {
   "cell_type": "code",
   "execution_count": 5,
   "id": "ef7f71a6",
   "metadata": {},
   "outputs": [
    {
     "name": "stdout",
     "output_type": "stream",
     "text": [
      "5\n",
      "10\n",
      "15\n",
      "20\n",
      "25\n",
      "30\n",
      "35\n",
      "40\n",
      "45\n",
      "50\n"
     ]
    }
   ],
   "source": [
    "print_table(5)"
   ]
  },
  {
   "cell_type": "code",
   "execution_count": 6,
   "id": "a6b09c1b",
   "metadata": {},
   "outputs": [],
   "source": [
    "# args= this will act like a tuple inside a function\n",
    "# used for accpecting multiple parameter in one argument"
   ]
  },
  {
   "cell_type": "code",
   "execution_count": 7,
   "id": "8f3e8222",
   "metadata": {},
   "outputs": [],
   "source": [
    "def information(*args):\n",
    "    print(f\"values:{args}\")\n",
    "    print(f\"type:{type(args)}\")\n",
    "    for i in args:\n",
    "        print(i)"
   ]
  },
  {
   "cell_type": "code",
   "execution_count": 8,
   "id": "a089b6a9",
   "metadata": {},
   "outputs": [
    {
     "name": "stdout",
     "output_type": "stream",
     "text": [
      "values:(1, 'shalvi', 'student', 2345)\n",
      "type:<class 'tuple'>\n",
      "1\n",
      "shalvi\n",
      "student\n",
      "2345\n"
     ]
    }
   ],
   "source": [
    "information(1,'shalvi','student',2345)"
   ]
  },
  {
   "cell_type": "code",
   "execution_count": 9,
   "id": "1696fae2",
   "metadata": {},
   "outputs": [],
   "source": [
    "# return multiplication of a number\n",
    "# 2,3,4=24"
   ]
  },
  {
   "cell_type": "code",
   "execution_count": null,
   "id": "e6f0dbc6",
   "metadata": {},
   "outputs": [],
   "source": [
    "def return_multiplication(*args):\n",
    "    m=1\n",
    "    for i in args:\n",
    "        m=m*i\n",
    "    return m"
   ]
  },
  {
   "cell_type": "code",
   "execution_count": 11,
   "id": "c43d6669",
   "metadata": {},
   "outputs": [
    {
     "data": {
      "text/plain": [
       "20"
      ]
     },
     "execution_count": 11,
     "metadata": {},
     "output_type": "execute_result"
    }
   ],
   "source": [
    "return_multiplication(4,5)"
   ]
  },
  {
   "cell_type": "code",
   "execution_count": 12,
   "id": "d0054df5",
   "metadata": {},
   "outputs": [
    {
     "data": {
      "text/plain": [
       "864"
      ]
     },
     "execution_count": 12,
     "metadata": {},
     "output_type": "execute_result"
    }
   ],
   "source": [
    "return_multiplication(3,6,4,6,2)"
   ]
  },
  {
   "cell_type": "code",
   "execution_count": 13,
   "id": "8a555aff",
   "metadata": {},
   "outputs": [],
   "source": [
    "lst=[2,4,5,6,7,8,9]"
   ]
  },
  {
   "cell_type": "code",
   "execution_count": 15,
   "id": "e172dd9d",
   "metadata": {},
   "outputs": [
    {
     "data": {
      "text/plain": [
       "120960"
      ]
     },
     "execution_count": 15,
     "metadata": {},
     "output_type": "execute_result"
    }
   ],
   "source": [
    "return_multiplication(*lst)    # * for unpacking a tuple"
   ]
  },
  {
   "cell_type": "code",
   "execution_count": 27,
   "id": "28bd9343",
   "metadata": {},
   "outputs": [],
   "source": [
    "cart=[\n",
    "    ('labtop',40000,1),\n",
    "    ('keyboard',6000,2),\n",
    "    ('mouse',2000,5),\n",
    "    ('mouse pad',100,10)\n",
    "]"
   ]
  },
  {
   "cell_type": "code",
   "execution_count": 28,
   "id": "949094b0",
   "metadata": {},
   "outputs": [],
   "source": [
    "def print_infi(*args):\n",
    "    total_price=0\n",
    "    for name,price,qty in args:\n",
    "        print(f\"name:{name},price:{price},qty:{qty}\")\n",
    "        print(\"-------------------------------------------------\")\n",
    "        total_price=total_price+price\n",
    "    return f\"total price={total_price}\"\n"
   ]
  },
  {
   "cell_type": "code",
   "execution_count": 29,
   "id": "c8a84e50",
   "metadata": {},
   "outputs": [
    {
     "name": "stdout",
     "output_type": "stream",
     "text": [
      "name:labtop,price:40000,qty:1\n",
      "-------------------------------------------------\n",
      "name:keyboard,price:6000,qty:2\n",
      "-------------------------------------------------\n",
      "name:mouse,price:2000,qty:5\n",
      "-------------------------------------------------\n",
      "name:mouse pad,price:100,qty:10\n",
      "-------------------------------------------------\n"
     ]
    },
    {
     "data": {
      "text/plain": [
       "'total price=48100'"
      ]
     },
     "execution_count": 29,
     "metadata": {},
     "output_type": "execute_result"
    }
   ],
   "source": [
    "print_infi(*cart)"
   ]
  },
  {
   "cell_type": "code",
   "execution_count": 30,
   "id": "acdb386c",
   "metadata": {},
   "outputs": [],
   "source": [
    "cart=[\n",
    "    ('smith',21,23000),\n",
    "    ('gaytri',24,45000),\n",
    "    ('om',22,20000)\n",
    "]"
   ]
  },
  {
   "cell_type": "code",
   "execution_count": 33,
   "id": "2a7de911",
   "metadata": {},
   "outputs": [],
   "source": [
    "def print_info(*args):\n",
    "    total_salary=0\n",
    "    for name,age,salary in args:\n",
    "        print(f\"name:{name},age:{age},salary:{salary}\")\n",
    "        print(\"-------------------------------------------------\")\n",
    "        total_salary=total_salary+salary\n",
    "    return f\"total salary={total_salary}\"\n"
   ]
  },
  {
   "cell_type": "code",
   "execution_count": 34,
   "id": "081c22b7",
   "metadata": {},
   "outputs": [
    {
     "name": "stdout",
     "output_type": "stream",
     "text": [
      "name:smith,age:21,salary:23000\n",
      "-------------------------------------------------\n",
      "name:gaytri,age:24,salary:45000\n",
      "-------------------------------------------------\n",
      "name:om,age:22,salary:20000\n",
      "-------------------------------------------------\n"
     ]
    },
    {
     "data": {
      "text/plain": [
       "'total salary=88000'"
      ]
     },
     "execution_count": 34,
     "metadata": {},
     "output_type": "execute_result"
    }
   ],
   "source": [
    "print_infi(*cart)"
   ]
  },
  {
   "cell_type": "code",
   "execution_count": 35,
   "id": "2b1d2dc5",
   "metadata": {},
   "outputs": [],
   "source": [
    "# ** kwargs same as dict"
   ]
  },
  {
   "cell_type": "code",
   "execution_count": 37,
   "id": "c2d39a12",
   "metadata": {},
   "outputs": [],
   "source": [
    "def disply(**kwargs):\n",
    "    print(f\"values:{kwargs}\")\n",
    "    for key,value in kwargs.items():\n",
    "        print(f\"key={key}\\nvalue={value}\")\n"
   ]
  },
  {
   "cell_type": "code",
   "execution_count": 38,
   "id": "15624fbd",
   "metadata": {},
   "outputs": [
    {
     "name": "stdout",
     "output_type": "stream",
     "text": [
      "values:{'name': 'shalvi', 'job_role': 'student'}\n",
      "key=name\n",
      "value=shalvi\n",
      "key=job_role\n",
      "value=student\n"
     ]
    }
   ],
   "source": [
    "disply(name=\"shalvi\",job_role=\"student\")"
   ]
  },
  {
   "cell_type": "code",
   "execution_count": 39,
   "id": "a8a9a366",
   "metadata": {},
   "outputs": [],
   "source": [
    "d={\n",
    "    'id':'soham',\n",
    "    'age':22,\n",
    "    'email':'abc@gmail.com'\n",
    "\n",
    "}"
   ]
  },
  {
   "cell_type": "code",
   "execution_count": 40,
   "id": "2fd5cd47",
   "metadata": {},
   "outputs": [
    {
     "name": "stdout",
     "output_type": "stream",
     "text": [
      "values:{'id': 'soham', 'age': 22, 'email': 'abc@gmail.com'}\n",
      "key=id\n",
      "value=soham\n",
      "key=age\n",
      "value=22\n",
      "key=email\n",
      "value=abc@gmail.com\n"
     ]
    }
   ],
   "source": [
    "disply(**d)"
   ]
  },
  {
   "cell_type": "code",
   "execution_count": 41,
   "id": "5abf3806",
   "metadata": {},
   "outputs": [],
   "source": [
    "# lamba function =used for small calculation"
   ]
  },
  {
   "cell_type": "code",
   "execution_count": 42,
   "id": "04b3bba2",
   "metadata": {},
   "outputs": [],
   "source": [
    "add= lambda a,b:a+b"
   ]
  },
  {
   "cell_type": "code",
   "execution_count": 43,
   "id": "a239a302",
   "metadata": {},
   "outputs": [
    {
     "data": {
      "text/plain": [
       "7"
      ]
     },
     "execution_count": 43,
     "metadata": {},
     "output_type": "execute_result"
    }
   ],
   "source": [
    "add(2,5)"
   ]
  },
  {
   "cell_type": "code",
   "execution_count": 44,
   "id": "d6bf39d5",
   "metadata": {},
   "outputs": [],
   "source": [
    "sq= lambda a:a*a"
   ]
  },
  {
   "cell_type": "code",
   "execution_count": 45,
   "id": "b991e7af",
   "metadata": {},
   "outputs": [
    {
     "data": {
      "text/plain": [
       "49"
      ]
     },
     "execution_count": 45,
     "metadata": {},
     "output_type": "execute_result"
    }
   ],
   "source": [
    "sq(7)"
   ]
  },
  {
   "cell_type": "code",
   "execution_count": 46,
   "id": "3e0646c7",
   "metadata": {},
   "outputs": [],
   "source": [
    "cube= lambda a:a*a*a"
   ]
  },
  {
   "cell_type": "code",
   "execution_count": 47,
   "id": "021eeccc",
   "metadata": {},
   "outputs": [
    {
     "data": {
      "text/plain": [
       "125"
      ]
     },
     "execution_count": 47,
     "metadata": {},
     "output_type": "execute_result"
    }
   ],
   "source": [
    "cube(5)"
   ]
  },
  {
   "cell_type": "code",
   "execution_count": null,
   "id": "e1fe2029",
   "metadata": {},
   "outputs": [],
   "source": []
  }
 ],
 "metadata": {
  "kernelspec": {
   "display_name": "base",
   "language": "python",
   "name": "python3"
  },
  "language_info": {
   "codemirror_mode": {
    "name": "ipython",
    "version": 3
   },
   "file_extension": ".py",
   "mimetype": "text/x-python",
   "name": "python",
   "nbconvert_exporter": "python",
   "pygments_lexer": "ipython3",
   "version": "3.13.5"
  }
 },
 "nbformat": 4,
 "nbformat_minor": 5
}

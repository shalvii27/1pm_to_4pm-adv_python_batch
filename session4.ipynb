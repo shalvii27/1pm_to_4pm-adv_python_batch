{
 "cells": [
  {
   "cell_type": "markdown",
   "id": "e4ec50e6",
   "metadata": {},
   "source": [
    "- we have two types of function in python\n",
    "- 1) predefining function\n",
    "- 2) user defining function"
   ]
  },
  {
   "cell_type": "code",
   "execution_count": 13,
   "id": "40a2d6de",
   "metadata": {},
   "outputs": [],
   "source": [
    "def print_table(n):\n",
    "    for i in range(1,11):\n",
    "         print(n*i)"
   ]
  },
  {
   "cell_type": "code",
   "execution_count": 14,
   "id": "fe057434",
   "metadata": {},
   "outputs": [
    {
     "name": "stdout",
     "output_type": "stream",
     "text": [
      "9\n",
      "18\n",
      "27\n",
      "36\n",
      "45\n",
      "54\n",
      "63\n",
      "72\n",
      "81\n",
      "90\n"
     ]
    }
   ],
   "source": [
    "print_table(9)"
   ]
  },
  {
   "cell_type": "code",
   "execution_count": 6,
   "id": "23893bc3",
   "metadata": {},
   "outputs": [],
   "source": [
    "lst=[3,5,7,8,9,23,45,67]"
   ]
  },
  {
   "cell_type": "code",
   "execution_count": 9,
   "id": "6933e9bc",
   "metadata": {},
   "outputs": [],
   "source": [
    "def cal_square(l):\n",
    "    for i in l:\n",
    "        print(i*i)"
   ]
  },
  {
   "cell_type": "code",
   "execution_count": 10,
   "id": "0d95bf94",
   "metadata": {},
   "outputs": [
    {
     "name": "stdout",
     "output_type": "stream",
     "text": [
      "9\n",
      "25\n",
      "49\n",
      "64\n",
      "81\n",
      "529\n",
      "2025\n",
      "4489\n"
     ]
    }
   ],
   "source": [
    "cal_square(lst)"
   ]
  },
  {
   "cell_type": "code",
   "execution_count": 15,
   "id": "06c244ff",
   "metadata": {},
   "outputs": [],
   "source": [
    "def cal_cube(n):\n",
    "    print(f\"cube of a number{n} is {n*n*n}\")"
   ]
  },
  {
   "cell_type": "code",
   "execution_count": 17,
   "id": "9d3f3caf",
   "metadata": {},
   "outputs": [
    {
     "name": "stdout",
     "output_type": "stream",
     "text": [
      "cube of a number5 is 125\n"
     ]
    }
   ],
   "source": [
    "cal_cube(5)"
   ]
  },
  {
   "cell_type": "code",
   "execution_count": 18,
   "id": "85ef6d66",
   "metadata": {},
   "outputs": [],
   "source": [
    "def cal_square(n):\n",
    "    return n*n"
   ]
  },
  {
   "cell_type": "code",
   "execution_count": 19,
   "id": "3ce502d2",
   "metadata": {},
   "outputs": [
    {
     "data": {
      "text/plain": [
       "16"
      ]
     },
     "execution_count": 19,
     "metadata": {},
     "output_type": "execute_result"
    }
   ],
   "source": [
    "cal_square(4)"
   ]
  },
  {
   "cell_type": "code",
   "execution_count": 20,
   "id": "1d50c877",
   "metadata": {},
   "outputs": [],
   "source": [
    "# def function_name(parameter list):\n",
    "  #  logical part"
   ]
  },
  {
   "cell_type": "code",
   "execution_count": 21,
   "id": "0f6e0858",
   "metadata": {},
   "outputs": [],
   "source": [
    "def greet():\n",
    "    print(\"welcome to ETLHIVE\")"
   ]
  },
  {
   "cell_type": "code",
   "execution_count": 22,
   "id": "78eb8711",
   "metadata": {},
   "outputs": [
    {
     "name": "stdout",
     "output_type": "stream",
     "text": [
      "welcome to ETLHIVE\n"
     ]
    }
   ],
   "source": [
    "greet()"
   ]
  },
  {
   "cell_type": "code",
   "execution_count": 25,
   "id": "a5f726fa",
   "metadata": {},
   "outputs": [],
   "source": [
    "# function with parameter\n",
    "def greet1(name):\n",
    "    print(f\"welcome to ETLHIVE{name}\")"
   ]
  },
  {
   "cell_type": "code",
   "execution_count": 26,
   "id": "6ff3c344",
   "metadata": {},
   "outputs": [
    {
     "name": "stdout",
     "output_type": "stream",
     "text": [
      "welcome to ETLHIVEshalvi\n"
     ]
    }
   ],
   "source": [
    "greet1(\"shalvi\")"
   ]
  },
  {
   "cell_type": "code",
   "execution_count": 27,
   "id": "5ee7a0ef",
   "metadata": {},
   "outputs": [
    {
     "name": "stdout",
     "output_type": "stream",
     "text": [
      "welcome to ETLHIVEajay\n"
     ]
    }
   ],
   "source": [
    "greet1(\"ajay\")"
   ]
  },
  {
   "cell_type": "code",
   "execution_count": 28,
   "id": "2480e325",
   "metadata": {},
   "outputs": [],
   "source": [
    "def print_mul(a,b):\n",
    "    print(f\"multiplication=\",a*b)"
   ]
  },
  {
   "cell_type": "code",
   "execution_count": 29,
   "id": "883e2f3f",
   "metadata": {},
   "outputs": [
    {
     "name": "stdout",
     "output_type": "stream",
     "text": [
      "multiplication= 8\n"
     ]
    }
   ],
   "source": [
    "print_mul(2,4)"
   ]
  },
  {
   "cell_type": "code",
   "execution_count": 30,
   "id": "e8773573",
   "metadata": {},
   "outputs": [],
   "source": [
    "def cal_cube(n):\n",
    "    print(f\"cube of a number{n} is {n*n*n}\")"
   ]
  },
  {
   "cell_type": "code",
   "execution_count": 31,
   "id": "4a97b8ca",
   "metadata": {},
   "outputs": [
    {
     "name": "stdout",
     "output_type": "stream",
     "text": [
      "cube of a number7 is 343\n"
     ]
    }
   ],
   "source": [
    "cal_cube(7)"
   ]
  },
  {
   "cell_type": "code",
   "execution_count": 32,
   "id": "3105c3f7",
   "metadata": {},
   "outputs": [],
   "source": [
    "lst=[2,3,4,5,6]"
   ]
  },
  {
   "cell_type": "code",
   "execution_count": 36,
   "id": "7863d9a0",
   "metadata": {},
   "outputs": [],
   "source": [
    "def sum_of_all_element(lst):    \n",
    "    s=0\n",
    "    for i in lst:\n",
    "       s=s+i\n",
    "    print(s)"
   ]
  },
  {
   "cell_type": "code",
   "execution_count": 38,
   "id": "d152ded3",
   "metadata": {},
   "outputs": [
    {
     "name": "stdout",
     "output_type": "stream",
     "text": [
      "20\n"
     ]
    }
   ],
   "source": [
    "sum_of_all_element(lst)"
   ]
  },
  {
   "cell_type": "code",
   "execution_count": 42,
   "id": "42124305",
   "metadata": {},
   "outputs": [],
   "source": [
    "def prod_of_all_element(lst):    \n",
    "    s=1\n",
    "    for i in lst:\n",
    "       s=s*i\n",
    "    print(s)"
   ]
  },
  {
   "cell_type": "code",
   "execution_count": 43,
   "id": "294ead5c",
   "metadata": {},
   "outputs": [
    {
     "name": "stdout",
     "output_type": "stream",
     "text": [
      "720\n"
     ]
    }
   ],
   "source": [
    "prod_of_all_element(lst)   "
   ]
  },
  {
   "cell_type": "code",
   "execution_count": 52,
   "id": "3c41793a",
   "metadata": {},
   "outputs": [],
   "source": [
    "def cal_hypo(a,b,):\n",
    "    c=(a**2+b**2)**0.5\n",
    "    print(\"hypotenus is:\",c)\n",
    "\n"
   ]
  },
  {
   "cell_type": "code",
   "execution_count": 53,
   "id": "1d4e49e1",
   "metadata": {},
   "outputs": [
    {
     "name": "stdout",
     "output_type": "stream",
     "text": [
      "hypotenus is: 6.4031242374328485\n"
     ]
    }
   ],
   "source": [
    "cal_hypo(4,5)"
   ]
  },
  {
   "cell_type": "code",
   "execution_count": 54,
   "id": "0275ddcd",
   "metadata": {},
   "outputs": [],
   "source": [
    "def verify_triangle(a,b,c):\n",
    "    if a<b+c and b<a+c and c<a+b:\n",
    "        print(\"triangle is not formed\")\n",
    "    else:\n",
    "        print(\"it is not forming a triangle\")    \n"
   ]
  },
  {
   "cell_type": "code",
   "execution_count": 57,
   "id": "97fe4f42",
   "metadata": {},
   "outputs": [
    {
     "name": "stdout",
     "output_type": "stream",
     "text": [
      "triangle is not formed\n"
     ]
    }
   ],
   "source": [
    "verify_triangle(4,5,6)"
   ]
  },
  {
   "cell_type": "code",
   "execution_count": 58,
   "id": "b95f6e96",
   "metadata": {},
   "outputs": [],
   "source": [
    "def cal_area_of_triangle(a,b,c):\n",
    "    s=a+b+c/2\n",
    "    area=(s*(s-a)*(s-b)*(s-c))**0.5\n",
    "    print(f\"area of triangle is {area}\")"
   ]
  },
  {
   "cell_type": "code",
   "execution_count": 59,
   "id": "4aade2ef",
   "metadata": {},
   "outputs": [
    {
     "name": "stdout",
     "output_type": "stream",
     "text": [
      "area of triangle is 467.84612855083026\n"
     ]
    }
   ],
   "source": [
    "cal_area_of_triangle(12,13,14)"
   ]
  },
  {
   "cell_type": "code",
   "execution_count": null,
   "id": "8e50af43",
   "metadata": {},
   "outputs": [],
   "source": []
  }
 ],
 "metadata": {
  "kernelspec": {
   "display_name": "base",
   "language": "python",
   "name": "python3"
  },
  "language_info": {
   "codemirror_mode": {
    "name": "ipython",
    "version": 3
   },
   "file_extension": ".py",
   "mimetype": "text/x-python",
   "name": "python",
   "nbconvert_exporter": "python",
   "pygments_lexer": "ipython3",
   "version": "3.13.5"
  }
 },
 "nbformat": 4,
 "nbformat_minor": 5
}

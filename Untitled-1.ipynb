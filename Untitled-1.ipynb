{
 "cells": [
  {
   "cell_type": "markdown",
   "id": "0f612088",
   "metadata": {},
   "source": [
    "# practics"
   ]
  },
  {
   "cell_type": "code",
   "execution_count": 1,
   "id": "fdf81b9d",
   "metadata": {},
   "outputs": [
    {
     "data": {
      "text/plain": [
       "19"
      ]
     },
     "execution_count": 1,
     "metadata": {},
     "output_type": "execute_result"
    }
   ],
   "source": [
    "sen='India is my country'\n",
    "len(sen)"
   ]
  },
  {
   "cell_type": "code",
   "execution_count": 6,
   "id": "5fb228a7",
   "metadata": {},
   "outputs": [],
   "source": [
    "def cal_words(w):\n",
    "    split_words=w.split(' ')\n",
    "    total_words=len(split_words)\n",
    "    print(f\"total words in my sentence is {total_words}\")"
   ]
  },
  {
   "cell_type": "code",
   "execution_count": 7,
   "id": "704f57d2",
   "metadata": {},
   "outputs": [
    {
     "name": "stdout",
     "output_type": "stream",
     "text": [
      "total words in my sentence is 5\n"
     ]
    }
   ],
   "source": [
    "cal_words(\"hii i am shalvi bidve\")"
   ]
  },
  {
   "cell_type": "markdown",
   "id": "c3ac9235",
   "metadata": {},
   "source": [
    "# generator function"
   ]
  },
  {
   "cell_type": "code",
   "execution_count": 8,
   "id": "b7024718",
   "metadata": {},
   "outputs": [
    {
     "name": "stdout",
     "output_type": "stream",
     "text": [
      "1\n",
      "2\n",
      "3\n",
      "4\n",
      "5\n",
      "6\n",
      "7\n",
      "8\n",
      "9\n",
      "10\n"
     ]
    }
   ],
   "source": [
    "i=1\n",
    "while i<=10:\n",
    "    print(i)\n",
    "    i=i+1"
   ]
  },
  {
   "cell_type": "code",
   "execution_count": null,
   "id": "f07cbf0f",
   "metadata": {},
   "outputs": [],
   "source": []
  }
 ],
 "metadata": {
  "kernelspec": {
   "display_name": "base",
   "language": "python",
   "name": "python3"
  },
  "language_info": {
   "codemirror_mode": {
    "name": "ipython",
    "version": 3
   },
   "file_extension": ".py",
   "mimetype": "text/x-python",
   "name": "python",
   "nbconvert_exporter": "python",
   "pygments_lexer": "ipython3",
   "version": "3.13.5"
  }
 },
 "nbformat": 4,
 "nbformat_minor": 5
}
